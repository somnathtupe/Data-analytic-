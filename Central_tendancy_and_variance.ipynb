{
 "cells": [
  {
   "cell_type": "code",
   "execution_count": 1,
   "id": "e0728747",
   "metadata": {},
   "outputs": [],
   "source": [
    "import numpy as np "
   ]
  },
  {
   "cell_type": "code",
   "execution_count": 2,
   "id": "f6b4e4a6",
   "metadata": {},
   "outputs": [],
   "source": [
    "import pandas as pd "
   ]
  },
  {
   "cell_type": "markdown",
   "id": "a87f519d",
   "metadata": {},
   "source": [
    "### Read the data form excel file "
   ]
  },
  {
   "cell_type": "code",
   "execution_count": 3,
   "id": "94235b01",
   "metadata": {},
   "outputs": [],
   "source": [
    "table= pd.read_excel(\"IBM-313 Marks.xlsx\")"
   ]
  },
  {
   "cell_type": "code",
   "execution_count": 4,
   "id": "9998cd6d",
   "metadata": {},
   "outputs": [
    {
     "data": {
      "text/html": [
       "<div>\n",
       "<style scoped>\n",
       "    .dataframe tbody tr th:only-of-type {\n",
       "        vertical-align: middle;\n",
       "    }\n",
       "\n",
       "    .dataframe tbody tr th {\n",
       "        vertical-align: top;\n",
       "    }\n",
       "\n",
       "    .dataframe thead th {\n",
       "        text-align: right;\n",
       "    }\n",
       "</style>\n",
       "<table border=\"1\" class=\"dataframe\">\n",
       "  <thead>\n",
       "    <tr style=\"text-align: right;\">\n",
       "      <th></th>\n",
       "      <th>S.No.</th>\n",
       "      <th>MTE (25)</th>\n",
       "      <th>Mini Project (25)</th>\n",
       "      <th>Total (50)</th>\n",
       "      <th>ETE (50)</th>\n",
       "      <th>Total</th>\n",
       "    </tr>\n",
       "  </thead>\n",
       "  <tbody>\n",
       "    <tr>\n",
       "      <th>0</th>\n",
       "      <td>1</td>\n",
       "      <td>5.00</td>\n",
       "      <td>20</td>\n",
       "      <td>25.00</td>\n",
       "      <td>12.0</td>\n",
       "      <td>37.00</td>\n",
       "    </tr>\n",
       "    <tr>\n",
       "      <th>1</th>\n",
       "      <td>2</td>\n",
       "      <td>11.05</td>\n",
       "      <td>20</td>\n",
       "      <td>31.05</td>\n",
       "      <td>26.0</td>\n",
       "      <td>57.05</td>\n",
       "    </tr>\n",
       "    <tr>\n",
       "      <th>2</th>\n",
       "      <td>3</td>\n",
       "      <td>8.10</td>\n",
       "      <td>20</td>\n",
       "      <td>28.10</td>\n",
       "      <td>14.0</td>\n",
       "      <td>42.10</td>\n",
       "    </tr>\n",
       "    <tr>\n",
       "      <th>3</th>\n",
       "      <td>4</td>\n",
       "      <td>6.00</td>\n",
       "      <td>10</td>\n",
       "      <td>16.00</td>\n",
       "      <td>13.0</td>\n",
       "      <td>29.00</td>\n",
       "    </tr>\n",
       "    <tr>\n",
       "      <th>4</th>\n",
       "      <td>5</td>\n",
       "      <td>11.35</td>\n",
       "      <td>20</td>\n",
       "      <td>31.35</td>\n",
       "      <td>17.0</td>\n",
       "      <td>48.35</td>\n",
       "    </tr>\n",
       "  </tbody>\n",
       "</table>\n",
       "</div>"
      ],
      "text/plain": [
       "   S.No.  MTE (25)  Mini Project (25)  Total (50)  ETE (50)  Total\n",
       "0      1      5.00                 20       25.00      12.0  37.00\n",
       "1      2     11.05                 20       31.05      26.0  57.05\n",
       "2      3      8.10                 20       28.10      14.0  42.10\n",
       "3      4      6.00                 10       16.00      13.0  29.00\n",
       "4      5     11.35                 20       31.35      17.0  48.35"
      ]
     },
     "execution_count": 4,
     "metadata": {},
     "output_type": "execute_result"
    }
   ],
   "source": [
    "table.head()"
   ]
  },
  {
   "cell_type": "markdown",
   "id": "c8d52afd",
   "metadata": {},
   "source": [
    "### Calculate mean of specific columns "
   ]
  },
  {
   "cell_type": "code",
   "execution_count": 5,
   "id": "3e2e302e",
   "metadata": {},
   "outputs": [
    {
     "data": {
      "text/plain": [
       "46.90632911392405"
      ]
     },
     "execution_count": 5,
     "metadata": {},
     "output_type": "execute_result"
    }
   ],
   "source": [
    "x=table['Total']\n",
    "np.mean(x)"
   ]
  },
  {
   "cell_type": "markdown",
   "id": "eb175592",
   "metadata": {},
   "source": [
    "### calculate median "
   ]
  },
  {
   "cell_type": "code",
   "execution_count": 6,
   "id": "431ccd0a",
   "metadata": {},
   "outputs": [
    {
     "data": {
      "text/plain": [
       "45.0"
      ]
     },
     "execution_count": 6,
     "metadata": {},
     "output_type": "execute_result"
    }
   ],
   "source": [
    "np.median(x)"
   ]
  },
  {
   "cell_type": "markdown",
   "id": "87807139",
   "metadata": {},
   "source": [
    "### Calculate mode "
   ]
  },
  {
   "cell_type": "code",
   "execution_count": 7,
   "id": "8ecd741f",
   "metadata": {},
   "outputs": [
    {
     "name": "stderr",
     "output_type": "stream",
     "text": [
       ]
    },
    {
     "data": {
      "text/plain": [
       "ModeResult(mode=array([0.]), count=array([2]))"
      ]
     },
     "execution_count": 7,
     "metadata": {},
     "output_type": "execute_result"
    }
   ],
   "source": [
    "import scipy \n",
    "from scipy import stats \n",
    "stats.mode(x)"
   ]
  },
  {
   "cell_type": "markdown",
   "id": "b08b1c19",
   "metadata": {},
   "source": [
    "### Percentile "
   ]
  },
  {
   "cell_type": "code",
   "execution_count": 8,
   "id": "b4cf514e",
   "metadata": {},
   "outputs": [
    {
     "name": "stdout",
     "output_type": "stream",
     "text": [
      "3.0\n"
     ]
    }
   ],
   "source": [
    "a = np.array([1,2,3,4,5])\n",
    "p=np.percentile(a,50)\n",
    "print(p)"
   ]
  },
  {
   "cell_type": "markdown",
   "id": "9bace9ad",
   "metadata": {},
   "source": [
    "### Use of loop in  python "
   ]
  },
  {
   "cell_type": "code",
   "execution_count": 9,
   "id": "4baf3a8c",
   "metadata": {},
   "outputs": [
    {
     "name": "stdout",
     "output_type": "stream",
     "text": [
      "['raju', 14, 2.5]\n"
     ]
    }
   ],
   "source": [
    "k= ['raju',14,2.5]\n",
    "print(k)"
   ]
  },
  {
   "cell_type": "code",
   "execution_count": 10,
   "id": "2f3ca3a6",
   "metadata": {},
   "outputs": [
    {
     "name": "stdout",
     "output_type": "stream",
     "text": [
      "raju\n",
      "14\n",
      "2.5\n"
     ]
    }
   ],
   "source": [
    "for i in k:\n",
    "    print(i)"
   ]
  },
  {
   "cell_type": "markdown",
   "id": "9e65f611",
   "metadata": {},
   "source": [
    "### Range "
   ]
  },
  {
   "cell_type": "code",
   "execution_count": 11,
   "id": "fe094d20",
   "metadata": {},
   "outputs": [
    {
     "name": "stdout",
     "output_type": "stream",
     "text": [
      "10\n",
      "12\n",
      "14\n",
      "16\n",
      "18\n"
     ]
    }
   ],
   "source": [
    " for i in range(10,20,2) :print(i)"
   ]
  },
  {
   "cell_type": "code",
   "execution_count": 12,
   "id": "d337bccf",
   "metadata": {},
   "outputs": [
    {
     "name": "stdout",
     "output_type": "stream",
     "text": [
      "10,12,14,16,18,"
     ]
    }
   ],
   "source": [
    "for i in range(10,20,2):\n",
    "    print(i,end=',')"
   ]
  },
  {
   "cell_type": "markdown",
   "id": "cf125cdb",
   "metadata": {},
   "source": [
    "### User define Function in python "
   ]
  },
  {
   "cell_type": "code",
   "execution_count": 13,
   "id": "c28b8bf7",
   "metadata": {},
   "outputs": [],
   "source": [
    "def add(p,q):\n",
    "    c=p+q \n",
    "    \n",
    "    return c "
   ]
  },
  {
   "cell_type": "code",
   "execution_count": 14,
   "id": "548f6f77",
   "metadata": {},
   "outputs": [
    {
     "data": {
      "text/plain": [
       "7"
      ]
     },
     "execution_count": 14,
     "metadata": {},
     "output_type": "execute_result"
    }
   ],
   "source": [
    "add(5,2)"
   ]
  },
  {
   "cell_type": "code",
   "execution_count": 15,
   "id": "fc3ef3ff",
   "metadata": {},
   "outputs": [],
   "source": [
    "def greet():\n",
    "    print('hello')\n",
    "    print('how are you')"
   ]
  },
  {
   "cell_type": "code",
   "execution_count": 16,
   "id": "e2293909",
   "metadata": {},
   "outputs": [
    {
     "name": "stdout",
     "output_type": "stream",
     "text": [
      "hello\n",
      "how are you\n"
     ]
    }
   ],
   "source": [
    "greet()"
   ]
  },
  {
   "cell_type": "markdown",
   "id": "fcc29e69",
   "metadata": {},
   "source": [
    "### Finding minimum and maximum value "
   ]
  },
  {
   "cell_type": "code",
   "execution_count": 17,
   "id": "680e8e7e",
   "metadata": {},
   "outputs": [
    {
     "data": {
      "text/plain": [
       "(1, 89)"
      ]
     },
     "execution_count": 17,
     "metadata": {},
     "output_type": "execute_result"
    }
   ],
   "source": [
    "data=[1,5,14,15,74,3,6,5,89,41]\n",
    "min(data),max(data)"
   ]
  },
  {
   "cell_type": "code",
   "execution_count": 18,
   "id": "36dfdfa8",
   "metadata": {},
   "outputs": [],
   "source": [
    "def min_max(data):\n",
    "    min_val=min(data)\n",
    "    max_val=max(data)\n",
    "    return (min_val,max_val)"
   ]
  },
  {
   "cell_type": "code",
   "execution_count": 19,
   "id": "cf588096",
   "metadata": {},
   "outputs": [
    {
     "data": {
      "text/plain": [
       "(1, 89)"
      ]
     },
     "execution_count": 19,
     "metadata": {},
     "output_type": "execute_result"
    }
   ],
   "source": [
    "min_max(data)"
   ]
  },
  {
   "cell_type": "code",
   "execution_count": 20,
   "id": "ddccbd60",
   "metadata": {},
   "outputs": [],
   "source": [
    "def ranged(data):\n",
    "    min_val=min(data)\n",
    "    max_val=max(data)\n",
    "    return (max_val-min_val)"
   ]
  },
  {
   "cell_type": "code",
   "execution_count": 21,
   "id": "2ffc481b",
   "metadata": {},
   "outputs": [
    {
     "data": {
      "text/plain": [
       "88"
      ]
     },
     "execution_count": 21,
     "metadata": {},
     "output_type": "execute_result"
    }
   ],
   "source": [
    "ranged(data)"
   ]
  },
  {
   "cell_type": "markdown",
   "id": "31b91407",
   "metadata": {},
   "source": [
    "### Quartile "
   ]
  },
  {
   "cell_type": "code",
   "execution_count": 22,
   "id": "41417376",
   "metadata": {},
   "outputs": [
    {
     "data": {
      "text/plain": [
       "5.0"
      ]
     },
     "execution_count": 22,
     "metadata": {},
     "output_type": "execute_result"
    }
   ],
   "source": [
    "data=[1,5,14,15,74,3,6,5,89,41]\n",
    "q1=np.percentile(data,25)\n",
    "q1"
   ]
  },
  {
   "cell_type": "code",
   "execution_count": 23,
   "id": "303cadc9",
   "metadata": {},
   "outputs": [
    {
     "data": {
      "text/plain": [
       "10.0"
      ]
     },
     "execution_count": 23,
     "metadata": {},
     "output_type": "execute_result"
    }
   ],
   "source": [
    "data=[1,5,14,15,74,3,6,5,89,41]\n",
    "q2=np.percentile(data,50)\n",
    "q2"
   ]
  },
  {
   "cell_type": "code",
   "execution_count": 24,
   "id": "6b2fdfc5",
   "metadata": {},
   "outputs": [
    {
     "data": {
      "text/plain": [
       "34.5"
      ]
     },
     "execution_count": 24,
     "metadata": {},
     "output_type": "execute_result"
    }
   ],
   "source": [
    "data=[1,5,14,15,74,3,6,5,89,41]\n",
    "q3=np.percentile(data,75)\n",
    "q3"
   ]
  },
  {
   "cell_type": "markdown",
   "id": "3713abfb",
   "metadata": {},
   "source": [
    "### Inter-Quartile range "
   ]
  },
  {
   "cell_type": "code",
   "execution_count": 25,
   "id": "9539528d",
   "metadata": {},
   "outputs": [
    {
     "data": {
      "text/plain": [
       "29.5"
      ]
     },
     "execution_count": 25,
     "metadata": {},
     "output_type": "execute_result"
    }
   ],
   "source": [
    "Q=q3-q1\n",
    "Q"
   ]
  },
  {
   "cell_type": "markdown",
   "id": "14fedd1a",
   "metadata": {},
   "source": [
    "### Variance "
   ]
  },
  {
   "cell_type": "code",
   "execution_count": 26,
   "id": "ab78b9c8",
   "metadata": {},
   "outputs": [
    {
     "data": {
      "text/plain": [
       "262.78147892965876"
      ]
     },
     "execution_count": 26,
     "metadata": {},
     "output_type": "execute_result"
    }
   ],
   "source": [
    "np.var(x)"
   ]
  },
  {
   "cell_type": "markdown",
   "id": "a108c431",
   "metadata": {},
   "source": [
    "### Population standard deviation "
   ]
  },
  {
   "cell_type": "code",
   "execution_count": 27,
   "id": "820a2d5f",
   "metadata": {},
   "outputs": [
    {
     "data": {
      "text/plain": [
       "16.210536046955966"
      ]
     },
     "execution_count": 27,
     "metadata": {},
     "output_type": "execute_result"
    }
   ],
   "source": [
    "import statistics\n",
    "statistics.pstdev(x)"
   ]
  },
  {
   "cell_type": "markdown",
   "id": "878e5534",
   "metadata": {},
   "source": [
    "### standard deviation "
   ]
  },
  {
   "cell_type": "code",
   "execution_count": 28,
   "id": "8212ca14",
   "metadata": {},
   "outputs": [
    {
     "data": {
      "text/plain": [
       "16.31411880088133"
      ]
     },
     "execution_count": 28,
     "metadata": {},
     "output_type": "execute_result"
    }
   ],
   "source": [
    "statistics.stdev(x)"
   ]
  },
  {
   "cell_type": "markdown",
   "id": "9ed6dd29",
   "metadata": {},
   "source": [
    "### Skewness of given data\n"
   ]
  },
  {
   "cell_type": "code",
   "execution_count": 29,
   "id": "b800dba2",
   "metadata": {},
   "outputs": [
    {
     "data": {
      "text/plain": [
       "0.10226407464884266"
      ]
     },
     "execution_count": 29,
     "metadata": {},
     "output_type": "execute_result"
    }
   ],
   "source": [
    "from scipy.stats import skew \n",
    "\n",
    "skew(x)"
   ]
  },
  {
   "cell_type": "markdown",
   "id": "ad77233b",
   "metadata": {},
   "source": [
    "### Box-Plot "
   ]
  },
  {
   "cell_type": "code",
   "execution_count": 30,
   "id": "dba55b2a",
   "metadata": {},
   "outputs": [],
   "source": [
    "import matplotlib.pyplot as plt "
   ]
  },
  {
   "cell_type": "code",
   "execution_count": 31,
   "id": "dda6292c",
   "metadata": {
    "scrolled": true
   },
   "outputs": [
    {
     "data": {
      "image/png": "[encoded data removed]",
      "text/plain": [
       "<Figure size 432x288 with 1 Axes>"
      ]
     },
     "metadata": {
      "needs_background": "light"
     },
     "output_type": "display_data"
    }
   ],
   "source": [
    "plt.boxplot(x,sym='*')\n",
    "plt.show()"
   ]
  },
  {
   "cell_type": "code",
   "execution_count": null,
   "id": "e2d2537d",
   "metadata": {},
   "outputs": [],
   "source": []
  }
 ],
 "metadata": {
  "kernelspec": {
   "display_name": "Python 3 (ipykernel)",
   "language": "python",
   "name": "python3"
  },
  "language_info": {
   "codemirror_mode": {
    "name": "ipython",
    "version": 3
   },
   "file_extension": ".py",
   "mimetype": "text/x-python",
   "name": "python",
   "nbconvert_exporter": "python",
   "pygments_lexer": "ipython3",
   "version": "3.9.7"
  }
 },
 "nbformat": 4,
 "nbformat_minor": 5
}
