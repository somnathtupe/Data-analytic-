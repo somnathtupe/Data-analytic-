{
 "cells": [
  {
   "cell_type": "code",
   "execution_count": 3,
   "id": "aa4458d4",
   "metadata": {},
   "outputs": [],
   "source": [
    "import scipy"
   ]
  },
  {
   "cell_type": "code",
   "execution_count": 4,
   "id": "e014b5d3",
   "metadata": {},
   "outputs": [],
   "source": [
    "import numpy as np "
   ]
  },
  {
   "cell_type": "code",
   "execution_count": 5,
   "id": "8671dbbd",
   "metadata": {},
   "outputs": [],
   "source": [
    "from scipy.stats import binom"
   ]
  },
  {
   "cell_type": "markdown",
   "id": "84418dd8",
   "metadata": {},
   "source": [
    "### Binomial distribution "
   ]
  },
  {
   "cell_type": "markdown",
   "id": "559e28f1",
   "metadata": {},
   "source": [
    "#### A Gallup survey found that 65% of all financial consumers were very satisfied with their primary financial institution. Suppose that 25 financial consumers are sampled and if the Gallup survey result still holds true today, what is the probability that exactly 19 are very satisfied with their primary financial institution?"
   ]
  },
  {
   "cell_type": "code",
   "execution_count": 6,
   "id": "84ba70ce",
   "metadata": {},
   "outputs": [
    {
     "name": "stdout",
     "output_type": "stream",
     "text": [
      "0.090777998593228\n"
     ]
    }
   ],
   "source": [
    "print(binom.pmf(k=19,n=25,p=0.65))"
   ]
  },
  {
   "cell_type": "markdown",
   "id": "440909b0",
   "metadata": {},
   "source": [
    "### According to the U.S. Census Bureau,\n",
    "approximately 6% of all workers in jackson,\n",
    "Mississippi, are unemployed. In conducting a\n",
    "random telephone survey in Jackson, what is\n",
    "the probability of getting two or fewer\n",
    "unemployed workers in a sample of 20?"
   ]
  },
  {
   "cell_type": "code",
   "execution_count": 7,
   "id": "01bfd4a9",
   "metadata": {},
   "outputs": [
    {
     "name": "stdout",
     "output_type": "stream",
     "text": [
      "0.8850275957378549\n"
     ]
    }
   ],
   "source": [
    "print(binom.cdf(2,20,0.06))"
   ]
  },
  {
   "cell_type": "code",
   "execution_count": null,
   "id": "641a27f2",
   "metadata": {},
   "outputs": [],
   "source": []
  },
  {
   "cell_type": "markdown",
   "id": "dcfb463e",
   "metadata": {},
   "source": [
    "### Poisson distribution "
   ]
  },
  {
   "cell_type": "code",
   "execution_count": 8,
   "id": "ab82d45e",
   "metadata": {},
   "outputs": [],
   "source": [
    "from scipy.stats import poisson"
   ]
  },
  {
   "cell_type": "markdown",
   "id": "36d079b7",
   "metadata": {},
   "source": [
    "On a bank has an average random arrival rate of 3.2 customers every 4 minutes what is the probability of getting exactly 10 customers during 8 minutes interval."
   ]
  },
  {
   "cell_type": "code",
   "execution_count": 9,
   "id": "152f74fd",
   "metadata": {},
   "outputs": [],
   "source": [
    "# here random arrival rate is 3.2 for 4 minutes and asking 10 customers during 8 minutes .\n",
    "# convert this two term into same unit \n",
    "# 6.4 and 8 "
   ]
  },
  {
   "cell_type": "code",
   "execution_count": 21,
   "id": "8abb98d3",
   "metadata": {},
   "outputs": [
    {
     "name": "stdout",
     "output_type": "stream",
     "text": [
      "0.052790043854115495\n"
     ]
    }
   ],
   "source": [
    "print(poisson.pmf(10,6.4))"
   ]
  },
  {
   "cell_type": "markdown",
   "id": "70b240b3",
   "metadata": {},
   "source": [
    "### Uniform distribution  "
   ]
  },
  {
   "cell_type": "code",
   "execution_count": 11,
   "id": "5257713b",
   "metadata": {},
   "outputs": [
    {
     "data": {
      "text/plain": [
       "array([27, 28, 29, 30, 31, 32, 33, 34, 35, 36, 37, 38, 39])"
      ]
     },
     "execution_count": 11,
     "metadata": {},
     "output_type": "execute_result"
    }
   ],
   "source": [
    "dt = np.arange(27,40,1)\n",
    "dt "
   ]
  },
  {
   "cell_type": "code",
   "execution_count": 12,
   "id": "a73be22d",
   "metadata": {},
   "outputs": [
    {
     "data": {
      "text/plain": [
       "33.0"
      ]
     },
     "execution_count": 12,
     "metadata": {},
     "output_type": "execute_result"
    }
   ],
   "source": [
    "from scipy.stats import uniform\n",
    "\n",
    "uniform.mean(loc=27,scale=12)"
   ]
  },
  {
   "cell_type": "code",
   "execution_count": 13,
   "id": "90a98f59",
   "metadata": {},
   "outputs": [
    {
     "data": {
      "text/plain": [
       "array([0.25      , 0.33333333, 0.41666667, 0.5       , 0.58333333,\n",
       "       0.66666667])"
      ]
     },
     "execution_count": 13,
     "metadata": {},
     "output_type": "execute_result"
    }
   ],
   "source": [
    "uniform.cdf(np.arange(30,36,1),loc=27,scale=12)"
   ]
  },
  {
   "cell_type": "code",
   "execution_count": null,
   "id": "b3133af6",
   "metadata": {},
   "outputs": [],
   "source": []
  },
  {
   "cell_type": "code",
   "execution_count": 14,
   "id": "791997ab",
   "metadata": {},
   "outputs": [
    {
     "data": {
      "text/plain": [
       "691.0"
      ]
     },
     "execution_count": 14,
     "metadata": {},
     "output_type": "execute_result"
    }
   ],
   "source": [
    "uniform.mean(loc=200,scale=982)"
   ]
  },
  {
   "cell_type": "code",
   "execution_count": 15,
   "id": "fd5314fe",
   "metadata": {},
   "outputs": [
    {
     "data": {
      "text/plain": [
       "283.4789821721062"
      ]
     },
     "execution_count": 15,
     "metadata": {},
     "output_type": "execute_result"
    }
   ],
   "source": [
    "uniform.std(loc=200,scale=982)"
   ]
  },
  {
   "cell_type": "markdown",
   "id": "58e6f9f9",
   "metadata": {},
   "source": [
    "### Normal  distribution "
   ]
  },
  {
   "cell_type": "code",
   "execution_count": 16,
   "id": "9d8841df",
   "metadata": {},
   "outputs": [],
   "source": [
    "from scipy.stats import norm "
   ]
  },
  {
   "cell_type": "code",
   "execution_count": 17,
   "id": "bffa317d",
   "metadata": {},
   "outputs": [],
   "source": [
    "val,m,s=68,65.5,2.5"
   ]
  },
  {
   "cell_type": "code",
   "execution_count": 18,
   "id": "c5bda924",
   "metadata": {},
   "outputs": [
    {
     "name": "stdout",
     "output_type": "stream",
     "text": [
      "0.8413447460685429\n"
     ]
    }
   ],
   "source": [
    "print(norm.cdf(val,m,s))"
   ]
  },
  {
   "cell_type": "code",
   "execution_count": 19,
   "id": "c43d91fd",
   "metadata": {},
   "outputs": [
    {
     "name": "stdout",
     "output_type": "stream",
     "text": [
      "0.15865525393145707\n"
     ]
    }
   ],
   "source": [
    "print(1-norm.cdf(val,m,s))"
   ]
  },
  {
   "cell_type": "code",
   "execution_count": 20,
   "id": "b1bb3806",
   "metadata": {},
   "outputs": [
    {
     "name": "stdout",
     "output_type": "stream",
     "text": [
      "0.6826894921370859\n"
     ]
    }
   ],
   "source": [
    " print(norm.cdf(val,m,s)-norm.cdf(63,m,s))"
   ]
  },
  {
   "cell_type": "code",
   "execution_count": null,
   "id": "3cb826e9",
   "metadata": {},
   "outputs": [],
   "source": []
  }
 ],
 "metadata": {
  "kernelspec": {
   "display_name": "Python 3 (ipykernel)",
   "language": "python",
   "name": "python3"
  },
  "language_info": {
   "codemirror_mode": {
    "name": "ipython",
    "version": 3
   },
   "file_extension": ".py",
   "mimetype": "text/x-python",
   "name": "python",
   "nbconvert_exporter": "python",
   "pygments_lexer": "ipython3",
   "version": "3.9.12"
  }
 },
 "nbformat": 4,
 "nbformat_minor": 5
}
