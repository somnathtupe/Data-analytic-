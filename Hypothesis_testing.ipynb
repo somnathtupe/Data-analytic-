{
 "cells": [
  {
   "cell_type": "code",
   "execution_count": 14,
   "id": "a7a2b2ab",
   "metadata": {},
   "outputs": [],
   "source": [
    "from scipy import stats"
   ]
  },
  {
   "cell_type": "markdown",
   "id": "758228ed",
   "metadata": {},
   "source": [
    "## Lower tail test hypothesis testing\n",
    "### p-value approach\n",
    "\n",
    "let say level of significance is alha equal to 0.10\n",
    "Test the hypothesis\n",
    "\n",
    "calculate p value  : z= x-mu/(std*n**1/2)    after that calulate p value \n",
    "\n",
    "z= -1.46   and p value =0.072                 "
   ]
  },
  {
   "cell_type": "code",
   "execution_count": 15,
   "id": "50db80dd",
   "metadata": {},
   "outputs": [
    {
     "data": {
      "text/plain": [
       "0.9750021048517795"
      ]
     },
     "execution_count": 15,
     "metadata": {},
     "output_type": "execute_result"
    }
   ],
   "source": [
    "# example for 95% confidence level  ,finding p value \n",
    "stats.norm.cdf(1.96)"
   ]
  },
  {
   "cell_type": "code",
   "execution_count": 16,
   "id": "b001c079",
   "metadata": {},
   "outputs": [
    {
     "data": {
      "text/plain": [
       "0.07214503696589378"
      ]
     },
     "execution_count": 16,
     "metadata": {},
     "output_type": "execute_result"
    }
   ],
   "source": [
    "# finding p value\n",
    "stats.norm.cdf(-1.46)"
   ]
  },
  {
   "cell_type": "code",
   "execution_count": 17,
   "id": "f08e52a2",
   "metadata": {},
   "outputs": [
    {
     "data": {
      "text/plain": [
       "-1.2815515655446004"
      ]
     },
     "execution_count": 17,
     "metadata": {},
     "output_type": "execute_result"
    }
   ],
   "source": [
    "# find z value \n",
    "stats.norm.ppf(0.10)"
   ]
  },
  {
   "cell_type": "markdown",
   "id": "d43c9e7f",
   "metadata": {},
   "source": [
    "## Upper tail test hypothesis testing\n",
    "### p-value approach\n",
    "\n",
    "let say level of significance is alha equal to 0.04\n",
    "Test the hypothesis\n",
    "\n",
    "calculate p value  : z= x-mu/(std*n**1/2)    after that calulate p value \n",
    "\n",
    "z= 2.29   and p value =0.01"
   ]
  },
  {
   "cell_type": "code",
   "execution_count": 18,
   "id": "fe4551de",
   "metadata": {},
   "outputs": [
    {
     "data": {
      "text/plain": [
       "0.040059156863817114"
      ]
     },
     "execution_count": 18,
     "metadata": {},
     "output_type": "execute_result"
    }
   ],
   "source": [
    "1-stats.norm.cdf(1.75)"
   ]
  },
  {
   "cell_type": "code",
   "execution_count": 19,
   "id": "ccc13a8e",
   "metadata": {},
   "outputs": [
    {
     "data": {
      "text/plain": [
       "0.011010658324411393"
      ]
     },
     "execution_count": 19,
     "metadata": {},
     "output_type": "execute_result"
    }
   ],
   "source": [
    "1-stats.norm.cdf(2.29)"
   ]
  },
  {
   "cell_type": "code",
   "execution_count": null,
   "id": "535e21c3",
   "metadata": {},
   "outputs": [],
   "source": []
  }
 ],
 "metadata": {
  "kernelspec": {
   "display_name": "Python 3 (ipykernel)",
   "language": "python",
   "name": "python3"
  },
  "language_info": {
   "codemirror_mode": {
    "name": "ipython",
    "version": 3
   },
   "file_extension": ".py",
   "mimetype": "text/x-python",
   "name": "python",
   "nbconvert_exporter": "python",
   "pygments_lexer": "ipython3",
   "version": "3.9.12"
  }
 },
 "nbformat": 4,
 "nbformat_minor": 5
}
